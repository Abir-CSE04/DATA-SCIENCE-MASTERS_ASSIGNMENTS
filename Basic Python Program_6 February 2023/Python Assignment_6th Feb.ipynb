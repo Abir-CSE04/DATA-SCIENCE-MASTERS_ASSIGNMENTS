{
 "cells": [
  {
   "cell_type": "code",
   "execution_count": 1,
   "id": "6caf035b-028e-4958-b254-1a4700b3c979",
   "metadata": {},
   "outputs": [],
   "source": [
    "                                        #Assignment- 7"
   ]
  },
  {
   "cell_type": "code",
   "execution_count": null,
   "id": "c339694b-72df-425f-b737-2c3a4700774f",
   "metadata": {},
   "outputs": [],
   "source": [
    "'''Q1. Create a function which will take a list as an argument and return the product of all the numbers \n",
    "after creating a flat list.\n",
    "\n",
    "Use the below-given list as an argument for your function.\n",
    "\n",
    "\n",
    "list1 = [1,2,3,4, [44,55,66, True], False, (34,56,78,89,34), {1,2,3,3,2,1}, {1:34, \"key2\": [55, 67, 78, 89], 4: (45, \n",
    "22, 61, 34)}, [56, 'data science'], 'Machine Learning']\n",
    "\n",
    "\n",
    "Note: you must extract numeric keys and values of the dictionary also.'''"
   ]
  },
  {
   "cell_type": "code",
   "execution_count": 16,
   "id": "28157f5b-b770-491a-ab07-1b0b3fbe4fa7",
   "metadata": {},
   "outputs": [
    {
     "name": "stdout",
     "output_type": "stream",
     "text": [
      "2315262738624675840\n"
     ]
    }
   ],
   "source": [
    "#from typing import List\n",
    "\n",
    "def get_product(lst: List):\n",
    "    flat_list = []\n",
    "    def flatten(lst):\n",
    "        for item in lst:\n",
    "            if type(item) in (list, tuple, set, dict):\n",
    "                flatten(item)\n",
    "            elif type(item) == int:\n",
    "                flat_list.append(item)\n",
    "    flatten(lst)\n",
    "    product = 1\n",
    "    for num in flat_list:\n",
    "        product *= num\n",
    "    return product\n",
    "list1 = [1,2,3,4, [44,55,66, True], False, (34,56,78,89,34), {1,2,3,3,2,1}, {1:34, \"key2\": [55, 67, 78, 89], 4: (45, 22, 61, 34)}, [56, 'data science'], 'Machine Learning']\n",
    "print(get_product(list1))"
   ]
  },
  {
   "cell_type": "code",
   "execution_count": null,
   "id": "53c47aa5-0f97-4923-a870-1fa9a6ea1a12",
   "metadata": {},
   "outputs": [],
   "source": [
    "'''Q2. Write a python program for encrypting a message sent to you by your friend. The logic of encryption \n",
    "should be such that, for a the output should be z. For b, the output should be y. For c, the output should \n",
    "be x respectively. Also, the whitespace should be replaced with a dollar sign. Keep the punctuation \n",
    "marks unchanged.\n",
    "\n",
    "\n",
    "Input Sentence: I want to become a Data Scientist.\n",
    "\n",
    "\n",
    "Encrypt the above input sentence using the program you just created.\n",
    "\n",
    "\n",
    "Note: Convert the given input sentence into lowercase before encrypting. The final output should be \n",
    "lowercase.'''"
   ]
  },
  {
   "cell_type": "code",
   "execution_count": 18,
   "id": "656b5c47-7db1-48e7-b308-7cd211987a66",
   "metadata": {},
   "outputs": [
    {
     "name": "stdout",
     "output_type": "stream",
     "text": [
      "r$dzmg$gl$yvxlnv$z$wzgz$hxrvmgrhg.\n"
     ]
    }
   ],
   "source": [
    "def encrypt(message):\n",
    "    output = \"\"\n",
    "    for char in message.lower():\n",
    "        if char.isalpha():\n",
    "            output += chr(ord('a') + ord('z') - ord(char))\n",
    "        elif char == ' ':\n",
    "            output += '$'\n",
    "        else:\n",
    "            output += char\n",
    "    return output.lower()\n",
    "\n",
    "message = \"I want to become a Data Scientist.\"\n",
    "encrypted_message = encrypt(message)\n",
    "print(encrypted_message)\n"
   ]
  },
  {
   "cell_type": "code",
   "execution_count": null,
   "id": "c1860031-2d48-4766-9173-2ddb87e95a2c",
   "metadata": {},
   "outputs": [],
   "source": []
  },
  {
   "cell_type": "code",
   "execution_count": null,
   "id": "b4b169c6-dd00-4423-a9e9-48fec18c4d24",
   "metadata": {},
   "outputs": [],
   "source": []
  },
  {
   "cell_type": "code",
   "execution_count": null,
   "id": "ad204de2-3a96-4697-a450-26ebb01904bd",
   "metadata": {},
   "outputs": [],
   "source": [
    "'''Explanation:\n",
    "The program takes a message as input and then converts all the characters to lowercase. Then, it encrypts the message by replacing each letter with its corresponding letter such that 'a' maps to 'z', 'b' maps to 'y', 'c' maps to 'x' and so on. The whitespace character is replaced by a dollar sign. Finally, the program returns the encrypted message in lowercase.\n",
    "\n",
    "In the given example, the original message \"I want to become a Data Scientist.\" is converted to \"r dzmw gl yvznvh z wztv hvmgizmw.\" after encryption.'''\n"
   ]
  }
 ],
 "metadata": {
  "kernelspec": {
   "display_name": "Python 3 (ipykernel)",
   "language": "python",
   "name": "python3"
  },
  "language_info": {
   "codemirror_mode": {
    "name": "ipython",
    "version": 3
   },
   "file_extension": ".py",
   "mimetype": "text/x-python",
   "name": "python",
   "nbconvert_exporter": "python",
   "pygments_lexer": "ipython3",
   "version": "3.10.6"
  }
 },
 "nbformat": 4,
 "nbformat_minor": 5
}
