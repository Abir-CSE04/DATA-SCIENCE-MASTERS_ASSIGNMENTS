{
 "cells": [
  {
   "cell_type": "code",
   "execution_count": null,
   "id": "74762dde-b9a1-422d-9297-beadc8afef25",
   "metadata": {},
   "outputs": [],
   "source": [
    "                                                #ASSIGNMENT-2"
   ]
  },
  {
   "cell_type": "code",
   "execution_count": 1,
   "id": "2b98a2ec-01c3-4616-9d24-f82c24e38ac7",
   "metadata": {},
   "outputs": [],
   "source": [
    "#Question:1"
   ]
  },
  {
   "cell_type": "code",
   "execution_count": 3,
   "id": "b47ff289-37e1-4fb4-9343-11a4c3d88599",
   "metadata": {},
   "outputs": [
    {
     "name": "stdin",
     "output_type": "stream",
     "text": [
      "Enter your marks:  95\n"
     ]
    },
    {
     "name": "stdout",
     "output_type": "stream",
     "text": [
      "A\n"
     ]
    }
   ],
   "source": [
    "marks = int(input(\"Enter your marks: \"))\n",
    "if marks > 90 :\n",
    "    print(\"A\")\n",
    "elif marks > 80 and marks <= 90 :\n",
    "    print(\"B\")\n",
    "elif marks >= 60 and marks <= 80 :\n",
    "    print(\"C\")\n",
    "else :\n",
    "    print(\"D\")"
   ]
  },
  {
   "cell_type": "code",
   "execution_count": 4,
   "id": "2e6e4243-b698-4591-83ed-e4cb8971e39a",
   "metadata": {},
   "outputs": [],
   "source": [
    "#Question:2"
   ]
  },
  {
   "cell_type": "code",
   "execution_count": 5,
   "id": "197ce6fa-d6e3-406f-883e-d124d49292c0",
   "metadata": {},
   "outputs": [
    {
     "name": "stdin",
     "output_type": "stream",
     "text": [
      "Enter the prices of bike:  900000\n"
     ]
    },
    {
     "name": "stdout",
     "output_type": "stream",
     "text": [
      "Your road tax is 15% .\n"
     ]
    }
   ],
   "source": [
    "prices = int(input(\"Enter the prices of bike: \"))\n",
    "if prices >100000 :\n",
    "    print(\"Your road tax is 15% .\")\n",
    "elif prices > 50000 and prices <= 100000 :\n",
    "    print(\"Your road tax is 10% .\")\n",
    "else :\n",
    "    print(\"Your road tax is 5% .\")\n"
   ]
  },
  {
   "cell_type": "code",
   "execution_count": 6,
   "id": "23553218-5155-4ac1-8796-293d89cdede7",
   "metadata": {},
   "outputs": [],
   "source": [
    "#Question:3"
   ]
  },
  {
   "cell_type": "code",
   "execution_count": 7,
   "id": "c1a18da4-13fd-4d24-93fe-1d1ff25e89ae",
   "metadata": {},
   "outputs": [
    {
     "name": "stdin",
     "output_type": "stream",
     "text": [
      "Available City Name: Delhi, Agra, Jaipur \n",
      "Enter the city name : Delhi\n"
     ]
    },
    {
     "name": "stdout",
     "output_type": "stream",
     "text": [
      "Moment of that city is Red Fort.\n"
     ]
    }
   ],
   "source": [
    "city =input(\"Available City Name: Delhi, Agra, Jaipur \\nEnter the city name :\")\n",
    "if city == \"Delhi\" :\n",
    "    print(\"Moment of that city is Red Fort.\")\n",
    "elif city == \"Agra\" :\n",
    "    print(\"Moment of that city is Taj Mahal.\")\n",
    "elif city == \"jaipur\" :\n",
    "    print(\"Moment of that city is Jal Mahal.\")\n",
    "else :\n",
    "    print(\"City name is not available .\")"
   ]
  },
  {
   "cell_type": "code",
   "execution_count": 8,
   "id": "90491442-5db0-4004-82ec-f645fda8687c",
   "metadata": {},
   "outputs": [],
   "source": [
    "#Question-4: Check how many times a given number can be divided by 3 before it is less than or equal to 10."
   ]
  },
  {
   "cell_type": "code",
   "execution_count": null,
   "id": "bcb9256c-6eb7-41c7-b96b-b162a2e18367",
   "metadata": {},
   "outputs": [
    {
     "name": "stdin",
     "output_type": "stream",
     "text": [
      "Enter a number : 50\n"
     ]
    }
   ],
   "source": [
    "def check_divisibility(num):\n",
    "    count = 0\n",
    "    while num>10:\n",
    "        num=num/3\n",
    "        count=count+1\n",
    "    return count\n",
    "num=int(input(\"Enter a number :\"))\n",
    "result= check_divisibility(num)\n",
    "print(\"The number can be divided by 3\", result, \"times before it is less than or equal to 10.\")"
   ]
  },
  {
   "cell_type": "code",
   "execution_count": null,
   "id": "b3afdd83-a9ff-4e40-b91c-1a52d7c85e25",
   "metadata": {},
   "outputs": [],
   "source": [
    "#Question-5: Why and when to use while loop in python give a detailed description with example. "
   ]
  },
  {
   "cell_type": "code",
   "execution_count": 9,
   "id": "b931b55f-9f15-4a71-8e9c-59d3ecd302cb",
   "metadata": {},
   "outputs": [
    {
     "name": "stdout",
     "output_type": "stream",
     "text": [
      "1\n",
      "2\n",
      "3\n",
      "4\n",
      "5\n"
     ]
    }
   ],
   "source": [
    "''' Ans> Python while loop is used to run a block code until a certain condition is met.\n",
    "The syntax of while loop is:\n",
    "while condition:\n",
    "# body of while loop\n",
    "      \n",
    "Here,\n",
    "A while loop evaluates the condition\n",
    "If the condition evaluates to True, the code inside the while loop is executed.\n",
    "condition is evaluated again.\n",
    "This process continues until the condition is False.\n",
    "When condition evaluates to False, the loop stops. '''\n",
    "    \n",
    "#Example : program to display numbers from 1 to 10\n",
    "num=0\n",
    "while num <5:\n",
    "    num +=1\n",
    "    print(num)"
   ]
  },
  {
   "cell_type": "code",
   "execution_count": 10,
   "id": "67958395-e924-448c-aa36-4ab4a3fee85d",
   "metadata": {},
   "outputs": [],
   "source": [
    "#Question-6: Use nested while loop to print 3 different pattern"
   ]
  },
  {
   "cell_type": "code",
   "execution_count": 12,
   "id": "fef29f67-66ba-4648-bb27-e607691f9159",
   "metadata": {},
   "outputs": [
    {
     "name": "stdout",
     "output_type": "stream",
     "text": [
      " *\n",
      " * *\n",
      " * * *\n",
      " * * * *\n",
      " * * * * *\n"
     ]
    }
   ],
   "source": [
    "# Pattern 1\n",
    "i=1\n",
    "while i<=5:\n",
    "    j=1\n",
    "    while j<=i :\n",
    "        print(\" *\", end=\"\")\n",
    "        j=j+1\n",
    "        \n",
    "    print(\"\")\n",
    "    i=i+1\n"
   ]
  },
  {
   "cell_type": "code",
   "execution_count": 14,
   "id": "cfef9619-155b-4314-8c38-a9f113fc9914",
   "metadata": {},
   "outputs": [
    {
     "name": "stdout",
     "output_type": "stream",
     "text": [
      "1 \n",
      "1 2 \n",
      "1 2 3 \n",
      "1 2 3 4 \n",
      "1 2 3 4 5 \n"
     ]
    }
   ],
   "source": [
    "# Pattern 2\n",
    "i=1\n",
    "while i<=5:\n",
    "    j=1\n",
    "    while j<=i :\n",
    "        print(j , end=\" \")\n",
    "        j=j+1\n",
    "        \n",
    "    print(\"\")\n",
    "    i=i+1\n"
   ]
  },
  {
   "cell_type": "code",
   "execution_count": 3,
   "id": "35595aae-fbcd-417b-86fa-ab55a394165e",
   "metadata": {},
   "outputs": [
    {
     "name": "stdout",
     "output_type": "stream",
     "text": [
      "* * * * * \n",
      "* * * * \n",
      "* * * \n",
      "* * \n",
      "* \n"
     ]
    }
   ],
   "source": [
    "# Pattern 3\n",
    "n = 5 \n",
    "i = 1\n",
    "while i <= n :\n",
    "    j = n\n",
    "    while j >= i:\n",
    "        print(\"*\", end = \" \")\n",
    "        j -= 1\n",
    "    print()\n",
    "    i += 1\n"
   ]
  },
  {
   "cell_type": "code",
   "execution_count": 4,
   "id": "f4ade7b1-c558-44e9-887d-89607b6d31b3",
   "metadata": {},
   "outputs": [],
   "source": [
    "#Question-7: Reverse a while loop to display numbers from 10 to 1"
   ]
  },
  {
   "cell_type": "code",
   "execution_count": 5,
   "id": "b55f43e2-af29-4799-84ca-43799d37b996",
   "metadata": {},
   "outputs": [
    {
     "name": "stdout",
     "output_type": "stream",
     "text": [
      "10\n",
      "9\n",
      "8\n",
      "7\n",
      "6\n",
      "5\n",
      "4\n",
      "3\n",
      "2\n"
     ]
    }
   ],
   "source": [
    "num=10\n",
    "while num >1:\n",
    "    print(num)\n",
    "    num =num-1"
   ]
  },
  {
   "cell_type": "code",
   "execution_count": 6,
   "id": "4e4f8854-465d-48c3-8bda-879cf80a534a",
   "metadata": {},
   "outputs": [],
   "source": [
    "#Question- 8:Reverse a for loop to display numbers from 10 to 1"
   ]
  },
  {
   "cell_type": "code",
   "execution_count": 10,
   "id": "44792aba-a256-4f1d-bc23-e2302ab0d7d8",
   "metadata": {},
   "outputs": [
    {
     "name": "stdout",
     "output_type": "stream",
     "text": [
      "10\n",
      "9\n",
      "8\n",
      "7\n",
      "6\n",
      "5\n",
      "4\n",
      "3\n",
      "2\n",
      "1\n"
     ]
    }
   ],
   "source": [
    "for i in range(10,0,-1):\n",
    "    print(i)"
   ]
  },
  {
   "cell_type": "code",
   "execution_count": null,
   "id": "10d6a48f-e7d9-4900-af17-67129e944052",
   "metadata": {},
   "outputs": [],
   "source": []
  }
 ],
 "metadata": {
  "kernelspec": {
   "display_name": "Python 3 (ipykernel)",
   "language": "python",
   "name": "python3"
  },
  "language_info": {
   "codemirror_mode": {
    "name": "ipython",
    "version": 3
   },
   "file_extension": ".py",
   "mimetype": "text/x-python",
   "name": "python",
   "nbconvert_exporter": "python",
   "pygments_lexer": "ipython3",
   "version": "3.10.6"
  }
 },
 "nbformat": 4,
 "nbformat_minor": 5
}
