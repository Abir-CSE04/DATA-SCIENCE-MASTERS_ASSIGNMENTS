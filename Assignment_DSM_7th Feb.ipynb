{
 "cells": [
  {
   "cell_type": "code",
   "execution_count": 1,
   "id": "5ff3e29a-9340-4d5b-b8ae-34dd4dfbe29e",
   "metadata": {},
   "outputs": [],
   "source": [
    "                                                #Assignment- 8"
   ]
  },
  {
   "cell_type": "code",
   "execution_count": null,
   "id": "607fec20-ba66-4b0f-9b65-3040c0d3b00f",
   "metadata": {},
   "outputs": [],
   "source": [
    "'''Q1. You are writing code for a company. The requirement of the company is that you create a python \n",
    "function that will check whether the password entered by the user is correct or not. The function should \n",
    "take the password as input and return the string “Valid Password” if the entered password follows the \n",
    "below-given password guidelines else it should return “Invalid Password”.\n",
    "\n",
    "\n",
    "Note: 1. The Password should contain at least two uppercase letters and at least two lowercase letters.\n",
    "\n",
    "2. The Password should contain at least a number and three special characters.\n",
    "\n",
    "3. The length of the password should be 10 characters long.\n",
    "'''"
   ]
  },
  {
   "cell_type": "code",
   "execution_count": 6,
   "id": "517cbc91-5458-4c92-b53c-6f410560488c",
   "metadata": {},
   "outputs": [
    {
     "name": "stdin",
     "output_type": "stream",
     "text": [
      "Enter your password: PAssword@1\n"
     ]
    },
    {
     "name": "stdout",
     "output_type": "stream",
     "text": [
      "Valid Password\n"
     ]
    }
   ],
   "source": [
    "import re\n",
    "\n",
    "def check_password(password):\n",
    "    if len(password) != 10:\n",
    "        return \"Invalid Password: Password should be 10 characters long.\"\n",
    "    if not re.search(\"[A-Z].*[A-Z]\", password):\n",
    "        return \"Invalid Password: Password should contain at least two uppercase letters.\"\n",
    "    if not re.search(\"[a-z].*[a-z]\", password):\n",
    "        return \"Invalid Password: Password should contain at least two lowercase letters.\"\n",
    "    if not re.search(\"[0-9]\", password):\n",
    "        return \"Invalid Password: Password should contain at least one number.\"\n",
    "    if not re.search(\"[!@#$%^&*()_+\\\\-={}\\\\[\\\\]|:;\\\"'<>,.?/~`]\", password):\n",
    "        return \"Invalid Password: Password should contain at least three special characters.\"\n",
    "    return \"Valid Password\"\n",
    "password = input(\"Enter your password:\")\n",
    "print(check_password(password))\n"
   ]
  },
  {
   "cell_type": "code",
   "execution_count": null,
   "id": "c570c794-b363-4699-a431-e2d38087fb8e",
   "metadata": {},
   "outputs": [],
   "source": [
    "'''Q2. Solve the below-given questions using at least one of the following:\n",
    "1. Lambda function\n",
    "2. Filter function\n",
    "3. Zap function\n",
    "4. List Comprehension\n",
    " Check if the string starts with a particular letter.\n",
    " Check if the string is numeric.\n",
    " Sort a list of tuples having fruit names and their quantity. [(\"mango\",99),(\"orange\",80), (\"grapes\", 1000)]\n",
    " Find the squares of numbers from 1 to 10.\n",
    " Find the cube root of numbers from 1 to 10.\n",
    " Check if a given number is even.\n",
    " Filter odd numbers from the given list.\n",
    " [1,2,3,4,5,6,7,8,9,10-]\n",
    " Sort a list of integers into positive and negative integers lists.\n",
    "[1,2,3,4,5,6,-1,-2,-3,-4,-5,0]'''"
   ]
  },
  {
   "cell_type": "code",
   "execution_count": 7,
   "id": "1f1149ef-8bd5-450c-84bf-eecf0a1bc556",
   "metadata": {},
   "outputs": [
    {
     "name": "stdout",
     "output_type": "stream",
     "text": [
      "['apple']\n"
     ]
    }
   ],
   "source": [
    "#Check if the string starts with a particular letter.\n",
    "strings = ['apple', 'banana', 'cherry', 'orange']\n",
    "\n",
    "# Check if the strings start with 'a'\n",
    "starts_with_a = filter(lambda s: s.startswith('a'), strings)\n",
    "\n",
    "print(list(starts_with_a))\n"
   ]
  },
  {
   "cell_type": "code",
   "execution_count": 8,
   "id": "5711d5cc-8235-42c4-ae92-81bd5a27a602",
   "metadata": {},
   "outputs": [
    {
     "name": "stdout",
     "output_type": "stream",
     "text": [
      "['123']\n"
     ]
    }
   ],
   "source": [
    "#Check if the string is numeric.\n",
    "strings = ['123', 'abc', '456.78', '-123']\n",
    "\n",
    "# Check if the strings are numeric\n",
    "is_numeric = filter(lambda s: s.isnumeric(), strings)\n",
    "\n",
    "print(list(is_numeric)) \n"
   ]
  },
  {
   "cell_type": "code",
   "execution_count": 9,
   "id": "63ec751c-1055-4d70-a03c-ca0a88e11c75",
   "metadata": {},
   "outputs": [
    {
     "name": "stdout",
     "output_type": "stream",
     "text": [
      "[('orange', 80), ('mango', 99), ('grapes', 1000)]\n"
     ]
    }
   ],
   "source": [
    "#Sort a list of tuples having fruit names and their quantity.\n",
    "fruits = [(\"mango\", 99), (\"orange\", 80), (\"grapes\", 1000)]\n",
    "\n",
    "# Sort the list of tuples by quantity (second element)\n",
    "sorted_fruits = sorted(fruits, key=lambda x: x[1])\n",
    "\n",
    "print(sorted_fruits) \n"
   ]
  },
  {
   "cell_type": "code",
   "execution_count": 10,
   "id": "1eccad3f-71c9-4581-a3bd-9fc13ca2f143",
   "metadata": {},
   "outputs": [
    {
     "name": "stdout",
     "output_type": "stream",
     "text": [
      "[1, 4, 9, 16, 25, 36, 49, 64, 81, 100]\n"
     ]
    }
   ],
   "source": [
    "#Find the squares of numbers from 1 to 10.\n",
    "squares = [x**2 for x in range(1, 11)]\n",
    "\n",
    "print(squares)  \n"
   ]
  },
  {
   "cell_type": "code",
   "execution_count": 11,
   "id": "5a73bc2e-9d88-4af2-b6eb-462b3c80f358",
   "metadata": {},
   "outputs": [
    {
     "name": "stdout",
     "output_type": "stream",
     "text": [
      "[1.0, 1.26, 1.44, 1.59, 1.71, 1.82, 1.91, 2.0, 2.08, 2.15]\n"
     ]
    }
   ],
   "source": [
    "#Find the cube root of numbers from 1 to 10.\n",
    "import math\n",
    "\n",
    "cube_roots = [round(pow(x, 1/3), 2) for x in range(1, 11)]\n",
    "\n",
    "print(cube_roots) \n"
   ]
  },
  {
   "cell_type": "code",
   "execution_count": 13,
   "id": "a465cd06-e91f-40df-a899-d970be6409e5",
   "metadata": {},
   "outputs": [
    {
     "name": "stdout",
     "output_type": "stream",
     "text": [
      "[False, True, False, True, False, True, False, True, False, True]\n"
     ]
    }
   ],
   "source": [
    "#Check if a given number is even.\n",
    "numbers = [1, 2, 3, 4, 5, 6, 7, 8, 9, 10]\n",
    "\n",
    "# Check if the numbers are even\n",
    "is_even = map(lambda x: x % 2 == 0, numbers)\n",
    "\n",
    "print(list(is_even)) \n"
   ]
  },
  {
   "cell_type": "code",
   "execution_count": 14,
   "id": "b1eadabc-2b24-4bcd-aa7d-b265f4db1635",
   "metadata": {},
   "outputs": [
    {
     "name": "stdout",
     "output_type": "stream",
     "text": [
      "[1, 3, 5, 7, 9]\n"
     ]
    }
   ],
   "source": [
    "#Filter odd numbers from the given list [1,2,3,4,5,6,7,8,9,10]\n",
    "nums = [1,2,3,4,5,6,7,8,9,10]\n",
    "odd_nums = list(filter(lambda x: x % 2 != 0, nums))\n",
    "print(odd_nums)\n"
   ]
  },
  {
   "cell_type": "code",
   "execution_count": 15,
   "id": "1d0248ae-26e8-4150-be42-5b1dfd5e5aaa",
   "metadata": {},
   "outputs": [
    {
     "name": "stdout",
     "output_type": "stream",
     "text": [
      "Positive Numbers: [1, 2, 3, 4, 5, 6]\n",
      "Negative Numbers: [-1, -2, -3, -4, -5]\n"
     ]
    }
   ],
   "source": [
    "#Sort a list of integers into positive and negative integers lists. [1,2,3,4,5,6,-1,-2,-3,-4,-5,0]\n",
    "nums = [1,2,3,4,5,6,-1,-2,-3,-4,-5,0]\n",
    "positive_nums = list(filter(lambda x: x > 0, nums))\n",
    "negative_nums = list(filter(lambda x: x < 0, nums))\n",
    "print(\"Positive Numbers:\", positive_nums)\n",
    "print(\"Negative Numbers:\", negative_nums)\n"
   ]
  },
  {
   "cell_type": "code",
   "execution_count": null,
   "id": "455f9be8-6838-4ee2-94e5-016ded99efbb",
   "metadata": {},
   "outputs": [],
   "source": []
  },
  {
   "cell_type": "code",
   "execution_count": null,
   "id": "00212009-c258-4752-a2f3-992b9582baa8",
   "metadata": {},
   "outputs": [],
   "source": []
  },
  {
   "cell_type": "code",
   "execution_count": null,
   "id": "37a1b1f5-1ad2-451e-b88a-3c74db06c172",
   "metadata": {},
   "outputs": [],
   "source": []
  }
 ],
 "metadata": {
  "kernelspec": {
   "display_name": "Python 3 (ipykernel)",
   "language": "python",
   "name": "python3"
  },
  "language_info": {
   "codemirror_mode": {
    "name": "ipython",
    "version": 3
   },
   "file_extension": ".py",
   "mimetype": "text/x-python",
   "name": "python",
   "nbconvert_exporter": "python",
   "pygments_lexer": "ipython3",
   "version": "3.10.6"
  }
 },
 "nbformat": 4,
 "nbformat_minor": 5
}
