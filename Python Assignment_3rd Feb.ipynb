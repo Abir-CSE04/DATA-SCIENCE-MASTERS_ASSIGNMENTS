{
 "cells": [
  {
   "cell_type": "code",
   "execution_count": 1,
   "id": "fd477332-4dad-41bb-86c0-2ef8e11c049f",
   "metadata": {},
   "outputs": [],
   "source": [
    "                                           # ASSIGNMENT-4"
   ]
  },
  {
   "cell_type": "code",
   "execution_count": 2,
   "id": "d15ca6ed-ca72-4b9e-a5ea-741781927764",
   "metadata": {},
   "outputs": [],
   "source": [
    "#Q1. Which keyword is used to create a function? Create a function to return a list of odd numbers in the range of 1 to 25."
   ]
  },
  {
   "cell_type": "code",
   "execution_count": 8,
   "id": "ce166489-0d0b-4e42-96e8-7958b64ec5fd",
   "metadata": {},
   "outputs": [
    {
     "name": "stdout",
     "output_type": "stream",
     "text": [
      "[1, 3, 5, 7, 9, 11, 13, 15, 17, 19, 21, 23, 25]\n"
     ]
    }
   ],
   "source": [
    "# Ans: \"def\" keyword used to create a function in Python.\n",
    "\n",
    "def odd_numbers() :\n",
    "    odd_list = []\n",
    "    for i in range(1, 26):\n",
    "        if i % 2 != 0 : \n",
    "            odd_list.append(i)\n",
    "    return odd_list\n",
    "print(odd_numbers())"
   ]
  },
  {
   "cell_type": "code",
   "execution_count": 9,
   "id": "24bdf430-a7dc-42bd-8f22-0b060db0c289",
   "metadata": {},
   "outputs": [],
   "source": [
    "# Q2. Why *args and **kwargs is used in some functions? Create a function each for *args and **kwargs to demonstrate their use."
   ]
  },
  {
   "cell_type": "code",
   "execution_count": 10,
   "id": "7c888f29-6d46-4f49-832d-9c617a873afc",
   "metadata": {},
   "outputs": [],
   "source": [
    "'''Ans: *args and **kwargs are used in functions to allow them to accept a varying number of arguments.\n",
    "*args is used to send a non-keyworded variable length argument list to the function.\n",
    "It allows you to pass a variable number of arguments to a function, which will be received as a tuple.\n",
    "\n",
    " **kwargs is used to pass keyworded variable length of arguments to a function,\n",
    " which will be received as a dictionary.'''\n",
    "\n",
    "# Here's an example of how you can use *args and **kwargs in a function: \n",
    "\n",
    "def print_args(*args):\n",
    "    print(\"Arguments passed as *args:\", args)\n",
    "    \n",
    "def print_kwargs(**kwargs):\n",
    "    print(\"Arguments passed as **kwargs:\", kwargs)"
   ]
  },
  {
   "cell_type": "code",
   "execution_count": null,
   "id": "283685f8-43e7-4eeb-8e12-681b9e214420",
   "metadata": {},
   "outputs": [],
   "source": [
    "Q3.  What is an iterator in python? Name the method used to initialise the iterator object and the method \n",
    "used for iteration. Use these methods to print the first five elements of the given list [2, 4, 6, 8, 10, 12, 14, \n",
    "16, 18, 20].\n"
   ]
  },
  {
   "cell_type": "code",
   "execution_count": 11,
   "id": "c840d72d-d47e-4165-aa77-cda94a33b5ef",
   "metadata": {},
   "outputs": [
    {
     "name": "stdout",
     "output_type": "stream",
     "text": [
      "2\n",
      "4\n",
      "6\n",
      "8\n",
      "10\n"
     ]
    }
   ],
   "source": [
    "''' Ans: \n",
    "    Iterator: An iterator is an object that contains a countable number of values.\n",
    "    \n",
    "The iterator object is initialized using the iter() method. It uses the next() method for iteration.\n",
    "1. __iter__(): The iter() method is called for the initialization of an iterator. This returns an iterator object\n",
    "2. __next__(): The next method returns the next value for the iterable. When we use a for loop to traverse any iterable object,\n",
    "                internally it uses the iter() method to get an iterator object, which further uses the next() method to iterate over.\n",
    "                This method raises a StopIteration to signal the end of the iteration. '''\n",
    "\n",
    "list=[2, 4, 6, 8, 10, 12, 14, 16, 18, 20]\n",
    "\n",
    "count=0\n",
    "for i in list:\n",
    "    \n",
    "    if count<5:\n",
    "        print(i)\n",
    "        count+=1\n",
    "        \n"
   ]
  },
  {
   "cell_type": "code",
   "execution_count": 1,
   "id": "1b7c2dda-410c-4cf6-86d0-5559b44c68c1",
   "metadata": {},
   "outputs": [],
   "source": [
    "# Q4.What is a generator function in python? Why yield keyword is used? Give an example of a generator function."
   ]
  },
  {
   "cell_type": "code",
   "execution_count": 5,
   "id": "a42a2fdb-cf9d-4ce8-9c07-ce9c6bd423fd",
   "metadata": {},
   "outputs": [
    {
     "name": "stdout",
     "output_type": "stream",
     "text": [
      "Fibonacci sequence:\n",
      "0\n",
      "1\n",
      "1\n",
      "2\n",
      "3\n",
      "5\n",
      "8\n",
      "13\n"
     ]
    }
   ],
   "source": [
    "'''A generator function in Python is a function that returns a generator iterator.\n",
    "The yield keyword is used in generator functions to return a value and temporarily suspend the function's execution, \n",
    "effectively turning the function into an iterator. When the function is called, it doesn't actually execute any of the code inside it,\n",
    "but instead returns a generator object, which can be used to generate a sequence of values on-the-fly. '''\n",
    "\n",
    "def fibonacci_sequence(limit):\n",
    "    a, b = 0, 1\n",
    "    while a < limit:\n",
    "        yield a\n",
    "        a, b = b, a + b\n",
    "\n",
    "fib = fibonacci_sequence(20)\n",
    "\n",
    "print(\"Fibonacci sequence:\")\n",
    "for number in fib:\n",
    "    print(number) "
   ]
  },
  {
   "cell_type": "code",
   "execution_count": 6,
   "id": "459cba00-f962-47b1-ac6b-2f5af28f0bf6",
   "metadata": {},
   "outputs": [],
   "source": [
    "#Q5.Create a generator function for prime numbers less than 1000. Use the next() method to print the first 20 prime numbers."
   ]
  },
  {
   "cell_type": "code",
   "execution_count": 11,
   "id": "88da6faa-66ce-4ea4-afb0-d08cf2ab6525",
   "metadata": {},
   "outputs": [
    {
     "name": "stdout",
     "output_type": "stream",
     "text": [
      "The first 20 prime numbers:\n",
      "2\n",
      "3\n",
      "5\n",
      "7\n",
      "11\n",
      "13\n",
      "17\n",
      "19\n",
      "23\n",
      "29\n",
      "31\n",
      "37\n",
      "41\n",
      "43\n",
      "47\n",
      "53\n",
      "59\n",
      "61\n",
      "67\n",
      "71\n"
     ]
    }
   ],
   "source": [
    "def primes():\n",
    "    num = 2\n",
    "    while num < 1000:\n",
    "        for i in range(2, num):\n",
    "            if num % i == 0:\n",
    "                break\n",
    "        else:\n",
    "            yield num\n",
    "        num += 1\n",
    "prime_gen = primes()\n",
    "print(\"The first 20 prime numbers:\")\n",
    "\n",
    "for i in range(20):\n",
    "    print(next(prime_gen))\n"
   ]
  },
  {
   "cell_type": "code",
   "execution_count": 12,
   "id": "22326f65-58f0-41c3-8d78-b4f8115dc248",
   "metadata": {},
   "outputs": [],
   "source": [
    "#Q6. Write a python program to print the first 10 Fibonacci numbers using a while loop."
   ]
  },
  {
   "cell_type": "code",
   "execution_count": 13,
   "id": "6358ee84-ef9e-40f0-8d81-5c5262365e5d",
   "metadata": {},
   "outputs": [
    {
     "name": "stdout",
     "output_type": "stream",
     "text": [
      "0\n",
      "1\n",
      "1\n",
      "2\n",
      "3\n",
      "5\n",
      "8\n",
      "13\n",
      "21\n",
      "34\n"
     ]
    }
   ],
   "source": [
    "a, b = 0, 1\n",
    "count = 0\n",
    "\n",
    "while count < 10:\n",
    "    print(a)\n",
    "    a, b = b, a + b\n",
    "    count += 1"
   ]
  },
  {
   "cell_type": "code",
   "execution_count": 14,
   "id": "b4e1b549-91c5-4059-8da4-31d4cdee1d59",
   "metadata": {},
   "outputs": [],
   "source": [
    "#Q7. Write a List Comprehension to iterate through the given string: ‘pwskills’.\n",
    "#Expected output: ['p', 'w', 's', 'k', 'i', 'l', 'l', 's'] "
   ]
  },
  {
   "cell_type": "code",
   "execution_count": 17,
   "id": "412c8a96-82f1-44b2-8b5a-fff22ca20df8",
   "metadata": {},
   "outputs": [
    {
     "data": {
      "text/plain": [
       "['p', 'w', 's', 'k', 'i', 'l', 'l', 's']"
      ]
     },
     "execution_count": 17,
     "metadata": {},
     "output_type": "execute_result"
    }
   ],
   "source": [
    "string=\"pwskills\"\n",
    "[i for i in string ]"
   ]
  },
  {
   "cell_type": "code",
   "execution_count": 18,
   "id": "4cd3db69-b3a5-4954-ae7d-be256189600a",
   "metadata": {},
   "outputs": [],
   "source": [
    "#Q8. Write a python program to check whether a given number is Palindrome or not using a while loop."
   ]
  },
  {
   "cell_type": "code",
   "execution_count": 19,
   "id": "687bf942-3955-4094-a345-8ccc40967820",
   "metadata": {},
   "outputs": [
    {
     "name": "stdin",
     "output_type": "stream",
     "text": [
      "Enter a number:  245254\n"
     ]
    },
    {
     "name": "stdout",
     "output_type": "stream",
     "text": [
      "245254 is not a palindrome\n"
     ]
    }
   ],
   "source": [
    "num = int(input(\"Enter a number: \"))\n",
    "temp = num\n",
    "reverse = 0\n",
    "\n",
    "while temp > 0:\n",
    "    digit = temp % 10\n",
    "    reverse = reverse * 10 + digit\n",
    "    temp = temp // 10\n",
    "\n",
    "if num == reverse:\n",
    "    print(num, \"is a palindrome\")\n",
    "else:\n",
    "    print(num, \"is not a palindrome\")\n"
   ]
  },
  {
   "cell_type": "code",
   "execution_count": 20,
   "id": "0060eccc-acc6-4670-a36e-610478ea9ba7",
   "metadata": {},
   "outputs": [],
   "source": [
    "#Q9. Write a code to print odd numbers from 1 to 100 using list comprehension.\n",
    "#Note: Use a list comprehension to create a list from 1 to 100 and use another List comprehension to filter out odd numbers."
   ]
  },
  {
   "cell_type": "code",
   "execution_count": 21,
   "id": "f914027b-8e59-45d4-809c-a6faff266f72",
   "metadata": {},
   "outputs": [
    {
     "name": "stdout",
     "output_type": "stream",
     "text": [
      "[1, 3, 5, 7, 9, 11, 13, 15, 17, 19, 21, 23, 25, 27, 29, 31, 33, 35, 37, 39, 41, 43, 45, 47, 49, 51, 53, 55, 57, 59, 61, 63, 65, 67, 69, 71, 73, 75, 77, 79, 81, 83, 85, 87, 89, 91, 93, 95, 97, 99]\n"
     ]
    }
   ],
   "source": [
    "# create a list from 1 to 100\n",
    "numbers = [num for num in range(1, 101)]\n",
    "\n",
    "# filter out the odd numbers using another list comprehension\n",
    "odds = [num for num in numbers if num % 2 != 0]\n",
    "\n",
    "# print the resulting list of odd numbers\n",
    "print(odds)\n"
   ]
  },
  {
   "cell_type": "code",
   "execution_count": null,
   "id": "37d8b9c4-7be8-4c64-8aa3-9db5fe14a57f",
   "metadata": {},
   "outputs": [],
   "source": []
  }
 ],
 "metadata": {
  "kernelspec": {
   "display_name": "Python 3 (ipykernel)",
   "language": "python",
   "name": "python3"
  },
  "language_info": {
   "codemirror_mode": {
    "name": "ipython",
    "version": 3
   },
   "file_extension": ".py",
   "mimetype": "text/x-python",
   "name": "python",
   "nbconvert_exporter": "python",
   "pygments_lexer": "ipython3",
   "version": "3.10.6"
  }
 },
 "nbformat": 4,
 "nbformat_minor": 5
}
