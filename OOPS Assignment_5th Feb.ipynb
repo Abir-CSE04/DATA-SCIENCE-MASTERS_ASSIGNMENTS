{
 "cells": [
  {
   "cell_type": "code",
   "execution_count": 1,
   "id": "332f0224-f89a-48af-9f4a-c15d1120a2d6",
   "metadata": {},
   "outputs": [],
   "source": [
    "                                                    #ASSIGNMENT-6"
   ]
  },
  {
   "cell_type": "code",
   "execution_count": 2,
   "id": "de0ae2ab-bcc5-4d18-9a04-1a3089f40eb6",
   "metadata": {},
   "outputs": [],
   "source": [
    "#Q1. Explain Class and Object with respect to Object-Oriented Programming. Give a suitable example."
   ]
  },
  {
   "cell_type": "code",
   "execution_count": null,
   "id": "d6bf72d9-876a-48b5-b4d1-6789ab3c80f6",
   "metadata": {},
   "outputs": [],
   "source": [
    "Ans> Class and Object are two fundamental concepts in Object-Oriented Programming (OOP).\n",
    "\n",
    "     A Class is a blueprint or a blueprint for an object, which defines a set of attributes and\n",
    "     behaviors. Classes are used to create objects, and they define the structure and properties of those objects.\n",
    "\n",
    "     An Object is an instance of a Class. An object is a real-world entity that has attributes and\n",
    "     behaviors that are defined by the class it is created from.\n",
    "\n",
    "     For example, consider a class Person. A Person class could have attributes like name, age, gender, \n",
    "     and behaviors like walk, eat, sleep. An object created from the Person class would be a specific person,\n",
    "     say John, with a specific name, age, and gender. John would have the ability to walk, eat, and sleep, which \n",
    "     are behaviors defined in the Person cla"
   ]
  },
  {
   "cell_type": "code",
   "execution_count": 3,
   "id": "e147740b-d582-4c06-8c9f-c8b27a2905e7",
   "metadata": {},
   "outputs": [
    {
     "name": "stdout",
     "output_type": "stream",
     "text": [
      "Toyota\n",
      "Corolla\n",
      "2021\n"
     ]
    }
   ],
   "source": [
    "class Car:\n",
    "    def __init__(self, make, model, year):\n",
    "        self.make = make\n",
    "        self.model = model\n",
    "        self.year = year\n",
    "\n",
    "    def get_make(self):\n",
    "        return self.make\n",
    "\n",
    "    def get_model(self):\n",
    "        return self.model\n",
    "\n",
    "    def get_year(self):\n",
    "        return self.year\n",
    "\n",
    "my_car = Car(\"Toyota\", \"Corolla\", 2021)\n",
    "print(my_car.get_make())    # Output: Toyota\n",
    "print(my_car.get_model())   # Output: Corolla\n",
    "print(my_car.get_year())    # Output: 2021\n"
   ]
  },
  {
   "cell_type": "code",
   "execution_count": 4,
   "id": "d893aea8-b1b8-4401-84f3-cf72d1bf60b6",
   "metadata": {},
   "outputs": [],
   "source": [
    "#Q2. Name the four pillars of OOPs."
   ]
  },
  {
   "cell_type": "code",
   "execution_count": null,
   "id": "ea441503-d51c-428c-b4f5-8aa8acee1add",
   "metadata": {},
   "outputs": [],
   "source": [
    "Ans> Abstraction\n",
    "     Encapsulation\n",
    "     Inheritance\n",
    "     Polymorphism"
   ]
  },
  {
   "cell_type": "code",
   "execution_count": null,
   "id": "2da8526c-1a75-4505-9a01-8db09d79caf8",
   "metadata": {},
   "outputs": [],
   "source": [
    "#Q3. Explain why the __init__() function is used. Give a suitable example."
   ]
  },
  {
   "cell_type": "code",
   "execution_count": null,
   "id": "54c40130-1380-479b-9d61-5000550663d3",
   "metadata": {},
   "outputs": [],
   "source": [
    "Ans> The __init__ method is a special method in Python that is automatically called when an object\n",
    "     of a class is created. It is commonly referred to as the constructor and is used to initialize \n",
    "     the attributes of an object. The __init__ method is defined within a class and takes the self \n",
    "     parameter, which refers to the instance of the object being created."
   ]
  },
  {
   "cell_type": "code",
   "execution_count": 5,
   "id": "5b4ff08a-2725-4211-9c17-f2ca1396cfc1",
   "metadata": {},
   "outputs": [
    {
     "name": "stdout",
     "output_type": "stream",
     "text": [
      "50\n",
      "30\n"
     ]
    }
   ],
   "source": [
    "#Here is an example to illustrate the use of the __init__() method:\n",
    "class Rectangle:\n",
    "    def __init__(self, width, height):\n",
    "        self.width = width\n",
    "        self.height = height\n",
    "\n",
    "    def area(self):\n",
    "        return self.width * self.height\n",
    "\n",
    "    def perimeter(self):\n",
    "        return 2 * (self.width + self.height)\n",
    "\n",
    "my_rect = Rectangle(5, 10)\n",
    "print(my_rect.area())       # Output: 50\n",
    "print(my_rect.perimeter())  # Output: 30\n"
   ]
  },
  {
   "cell_type": "code",
   "execution_count": 6,
   "id": "d00144f2-2ed3-40f1-957e-090103399d32",
   "metadata": {},
   "outputs": [],
   "source": [
    "#Q4. Why self is used in OOPs?"
   ]
  },
  {
   "cell_type": "code",
   "execution_count": null,
   "id": "8e635064-4f74-448e-9039-4bc7b116ee33",
   "metadata": {},
   "outputs": [],
   "source": [
    "Ans> The use of self allows you to access and modify the \n",
    "     attributes and methods of the object within the class\n"
   ]
  },
  {
   "cell_type": "code",
   "execution_count": 7,
   "id": "a1f3a669-d36b-432b-ac37-863721dd728d",
   "metadata": {},
   "outputs": [],
   "source": [
    "#Q5. What is inheritance? Give an example for each type of inheritance"
   ]
  },
  {
   "cell_type": "code",
   "execution_count": null,
   "id": "c538199f-32ad-4eb8-bfcb-608f1e80222c",
   "metadata": {},
   "outputs": [],
   "source": [
    "Inheritance is a fundamental concept in object-oriented programming that allows a class to inherit properties and methods from another class.\n",
    "The class that is being inherited from is called the parent class or superclass, while the class that is inheriting is called the child class \n",
    "or subclass. Inheritance helps in reducing code duplication, as well as allows for more efficient and organized code.\n",
    "\n",
    "There are four types of inheritance in Python:\n"
   ]
  },
  {
   "cell_type": "code",
   "execution_count": 8,
   "id": "d6b83ab4-e4aa-49a7-9079-10b511a3e274",
   "metadata": {},
   "outputs": [
    {
     "name": "stdout",
     "output_type": "stream",
     "text": [
      "Buddy\n",
      "Woof!\n"
     ]
    }
   ],
   "source": [
    "#1. Single inheritance: In single inheritance, a subclass inherits from only one parent class.Example-\n",
    "\n",
    "class Animal:\n",
    "    def __init__(self, name):\n",
    "        self.name = name\n",
    "\n",
    "    def speak(self):\n",
    "        raise NotImplementedError(\"Subclass must implement abstract method\")\n",
    "\n",
    "class Dog(Animal):\n",
    "    def speak(self):\n",
    "        return \"Woof!\"\n",
    "\n",
    "my_dog = Dog(\"Buddy\")\n",
    "print(my_dog.name)    # Output: Buddy\n",
    "print(my_dog.speak()) # Output: Woof!\n",
    "\n"
   ]
  },
  {
   "cell_type": "code",
   "execution_count": 9,
   "id": "1ba7da82-8d89-4c47-b30a-9d5ae4f7b1ec",
   "metadata": {},
   "outputs": [
    {
     "name": "stdout",
     "output_type": "stream",
     "text": [
      "A\n",
      "B\n",
      "C\n"
     ]
    }
   ],
   "source": [
    "#Multiple inheritance: In multiple inheritance, a subclass inherits from multiple parent classes.\n",
    "#Example:\n",
    "class A:\n",
    "    def a_method(self):\n",
    "        return \"A\"\n",
    "\n",
    "class B:\n",
    "    def b_method(self):\n",
    "        return \"B\"\n",
    "\n",
    "class C(A, B):\n",
    "    def c_method(self):\n",
    "        return \"C\"\n",
    "\n",
    "my_obj = C()\n",
    "print(my_obj.a_method())  # Output: A\n",
    "print(my_obj.b_method())  # Output: B\n",
    "print(my_obj.c_method())  # Output: C\n"
   ]
  },
  {
   "cell_type": "code",
   "execution_count": 10,
   "id": "9d3defe8-2a9a-4459-b562-34ebeed1666d",
   "metadata": {},
   "outputs": [
    {
     "name": "stdout",
     "output_type": "stream",
     "text": [
      "Sparky\n",
      "Yip!\n"
     ]
    }
   ],
   "source": [
    "#Multi-level inheritance: In multi-level inheritance, a subclass inherits from a parent class, which in turn inherits from another parent class.\n",
    "#Example:\n",
    "class Animal:\n",
    "    def __init__(self, name):\n",
    "        self.name = name\n",
    "\n",
    "    def speak(self):\n",
    "        raise NotImplementedError(\"Subclass must implement abstract method\")\n",
    "\n",
    "class Dog(Animal):\n",
    "    def speak(self):\n",
    "        return \"Woof!\"\n",
    "\n",
    "class Poodle(Dog):\n",
    "    def speak(self):\n",
    "        return \"Yip!\"\n",
    "\n",
    "my_poodle = Poodle(\"Sparky\")\n",
    "print(my_poodle.name)    # Output: Sparky\n",
    "print(my_poodle.speak()) # Output: Yip!\n"
   ]
  },
  {
   "cell_type": "code",
   "execution_count": 11,
   "id": "62dfc03b-eb7c-4ac7-b8bf-bb4976ef002f",
   "metadata": {},
   "outputs": [
    {
     "name": "stdout",
     "output_type": "stream",
     "text": [
      "Blue\n",
      "50\n",
      "Red\n"
     ]
    }
   ],
   "source": [
    "#Hierarchical inheritance: In hierarchical inheritance, multiple child classes inherit from a single parent class.\n",
    "#Example:\n",
    "\n",
    "class Shape:\n",
    "    def __init__(self, color):\n",
    "        self.color = color\n",
    "\n",
    "class Rectangle(Shape):\n",
    "    def area(self, length, width):\n",
    "        return length * width\n",
    "\n",
    "class Circle(Shape):\n",
    "    def area(self, radius):\n",
    "        return 3.14 * (radius ** 2)\n",
    "\n",
    "my_rect = Rectangle(\"Blue\")\n",
    "print(my_rect.color)      # Output: Blue\n",
    "print(my_rect.area(5, 10))# Output: 50\n",
    "\n",
    "my_circle = Circle(\"Red\")\n",
    "print(my_circle.color)    #\n"
   ]
  },
  {
   "cell_type": "code",
   "execution_count": null,
   "id": "7887f7fb-811d-4bfa-989d-8be345dc16f2",
   "metadata": {},
   "outputs": [],
   "source": []
  },
  {
   "cell_type": "code",
   "execution_count": null,
   "id": "df2d0eca-0949-4e85-bff7-8802d5d3ddd1",
   "metadata": {},
   "outputs": [],
   "source": []
  },
  {
   "cell_type": "code",
   "execution_count": null,
   "id": "7b7d946d-bd76-4b18-8dcb-611a1ca3ed5e",
   "metadata": {},
   "outputs": [],
   "source": []
  }
 ],
 "metadata": {
  "kernelspec": {
   "display_name": "Python 3 (ipykernel)",
   "language": "python",
   "name": "python3"
  },
  "language_info": {
   "codemirror_mode": {
    "name": "ipython",
    "version": 3
   },
   "file_extension": ".py",
   "mimetype": "text/x-python",
   "name": "python",
   "nbconvert_exporter": "python",
   "pygments_lexer": "ipython3",
   "version": "3.10.6"
  }
 },
 "nbformat": 4,
 "nbformat_minor": 5
}
