{
 "cells": [
  {
   "cell_type": "code",
   "execution_count": 1,
   "id": "b3e3acaf-33f2-414f-8f14-58cc40fdfdc3",
   "metadata": {},
   "outputs": [],
   "source": [
    "                                                    # Assignment- 9"
   ]
  },
  {
   "cell_type": "code",
   "execution_count": 2,
   "id": "35f52c28-6440-4cca-8620-9934681a37a6",
   "metadata": {},
   "outputs": [],
   "source": [
    "#Q1. What is Abstraction in OOps? Explain with an example."
   ]
  },
  {
   "cell_type": "code",
   "execution_count": null,
   "id": "5a09571f-8613-4b44-827e-e9875bfe7e65",
   "metadata": {},
   "outputs": [],
   "source": [
    "Ans> Abstraction in python is defined as a process of handling complexity by hiding unnecessary information from the user.\n",
    "     This is one of the core concepts of object-oriented programming (OOP) languages.\n",
    "    \n",
    "In OOPs, abstraction is achieved by creating an abstract class or interface that defines the abstract methods,\n",
    "which are declared but not defined in the abstract class. These methods are implemented in the derived classes, which inherit the abstract class.\n",
    "\n",
    "For example, let's consider a class hierarchy of different types of animals.\n",
    "Each animal has a name, age, and gender, but they also have unique behaviors and characteristics.\n",
    "We can create an abstract class called \"Animal\" that defines the common attributes and methods of all animals.\n",
    "Here is an example of how this might look in Python:"
   ]
  },
  {
   "cell_type": "code",
   "execution_count": 3,
   "id": "467c7eaf-6f75-4270-a634-a66989cba31e",
   "metadata": {},
   "outputs": [
    {
     "name": "stdout",
     "output_type": "stream",
     "text": [
      "Circle area: 314.0\n",
      "Rectangle area: 600\n"
     ]
    }
   ],
   "source": [
    "# Example-\n",
    "from abc import ABC, abstractmethod\n",
    "\n",
    "class Shape(ABC):\n",
    "    @abstractmethod\n",
    "    def area(self):\n",
    "        pass\n",
    "\n",
    "class Circle(Shape):\n",
    "    def __init__(self, radius):\n",
    "        self.radius = radius\n",
    "\n",
    "    def area(self):\n",
    "        return 3.14 * (self.radius ** 2)\n",
    "\n",
    "class Rectangle(Shape):\n",
    "    def __init__(self, length, width):\n",
    "        self.length = length\n",
    "        self.width = width\n",
    "\n",
    "    def area(self):\n",
    "        return self.length * self.width\n",
    "\n",
    "circle = Circle(10)\n",
    "rectangle = Rectangle(20, 30)\n",
    "\n",
    "print(\"Circle area:\", circle.area())\n",
    "print(\"Rectangle area:\", rectangle.area())"
   ]
  },
  {
   "cell_type": "code",
   "execution_count": 4,
   "id": "b5d373bf-2a6f-49a5-ae18-7f83209c6453",
   "metadata": {},
   "outputs": [],
   "source": [
    "#Q2. Differentiate between Abstraction and Encapsulation. Explain with an example."
   ]
  },
  {
   "cell_type": "code",
   "execution_count": null,
   "id": "de4e1940-7098-4314-8faf-583d2df97545",
   "metadata": {},
   "outputs": [],
   "source": [
    "Abstraction refers to the process of hiding the implementation details of an object and only showing its essential features to the outside world. \n",
    "It provides a high-level view of the system, making it easier to understand and modify. Abstraction is achieved through the use of abstract classes,\n",
    "interfaces, and methods.\n",
    "\n",
    "For example, let's consider a car. A car has several features such as wheels, engine, steering, etc. But when we think of a car,\n",
    "we only think about its basic functionalities such as moving forward, backward, left and right. We don't need to know the internal working of \n",
    "the car to use it. This is an example of abstraction, where we only see the essential features of an object, and its implementation details are hidden.\n",
    "\n",
    "Encapsulation, on the other hand, refers to the process of wrapping data and methods into a single unit and controlling access to them.\n",
    "It is a mechanism that ensures data integrity and security by preventing the direct access of data from outside the class.\n",
    "Encapsulation is achieved by using access modifiers such as public, private, and protected.\n",
    "\n",
    "For example, let's consider a bank account. A bank account has some data such as the account holder's name, account number, balance, etc.,\n",
    "and methods such as deposit, withdraw, check balance, etc. We don't want anyone to directly access and modify these data members. Instead,\n",
    "we provide methods such as deposit and withdraw to access and modify the balance. This is an example of encapsulation, where the data members\n",
    "are wrapped in a single unit, and their access is controlled through methods."
   ]
  },
  {
   "cell_type": "code",
   "execution_count": 5,
   "id": "30628dd0-4228-42a6-ac1e-e8fc6d758159",
   "metadata": {},
   "outputs": [],
   "source": [
    "#Q3. What is abc module in python? Why is it used?"
   ]
  },
  {
   "cell_type": "code",
   "execution_count": null,
   "id": "73ee795a-288b-43a2-8773-2ffd2fb5deea",
   "metadata": {},
   "outputs": [],
   "source": [
    "The abc module in Python stands for \"Abstract Base Classes.\" It is a built-in module that provides a way to define abstract base classes in Python.\n",
    "\n",
    "Abstract base classes are classes that cannot be instantiated directly but are designed to be subclassed by other classes. \n",
    "They provide a way to define a common interface or a set of methods that must be implemented by their subclasses. \n",
    "\n",
    "\n",
    "The abc module is primarily used in situations where you want to create a hierarchy of classes that share a common interface but have different \n",
    "implementations. For example, suppose you are building a game that has different characters with different abilities. \n",
    "You might define an abstract base class called Character that defines a set of methods such as move(), attack(), and defend(). \n",
    "Then, you can create subclasses of Character such as Warrior, Wizard, and Rogue, each of which implements the methods in its own way."
   ]
  },
  {
   "cell_type": "code",
   "execution_count": 6,
   "id": "23b09ae8-8c2f-4d4a-a20d-d0308ca47578",
   "metadata": {},
   "outputs": [],
   "source": [
    "#Q4. How can we achieve data abstraction?"
   ]
  },
  {
   "cell_type": "code",
   "execution_count": null,
   "id": "f4ffa233-24a1-4e6a-a503-8e76bf52876d",
   "metadata": {},
   "outputs": [],
   "source": [
    "We can achieve data abstraction in programming by using object-oriented programming (OOP) concepts such as classes, objects, and access modifiers.\n",
    "\n",
    "In OOP, we create classes that encapsulate data and behavior. The data members of a class represent the attributes or properties of an object, \n",
    "while the methods represent the actions or behaviors that an object can perform. To achieve data abstraction, \n",
    "we need to hide the implementation details of a class from the outside world and only expose its essential features"
   ]
  },
  {
   "cell_type": "code",
   "execution_count": 7,
   "id": "8e83e408-25ab-499d-9980-0d3c298fb56f",
   "metadata": {},
   "outputs": [],
   "source": [
    "'''For example, let's consider a class called BankAccount that represents a bank account. It has data members such as account number, \n",
    "account holder's name, and balance, and methods such as deposit, withdraw, and check balance. To achieve data abstraction, \n",
    "we can make the data members private and provide public methods to access and modify them.'''\n",
    "\n",
    "class BankAccount:\n",
    "    def __init__(self, account_number, account_holder, balance):\n",
    "        self.__account_number = account_number\n",
    "        self.__account_holder = account_holder\n",
    "        self.__balance = balance\n",
    "    \n",
    "    def deposit(self, amount):\n",
    "        self.__balance += amount\n",
    "    \n",
    "    def withdraw(self, amount):\n",
    "        if self.__balance < amount:\n",
    "            print(\"Insufficient balance\")\n",
    "        else:\n",
    "            self.__balance -= amount\n",
    "    \n",
    "    def check_balance(self):\n",
    "        return self.__balance\n"
   ]
  },
  {
   "cell_type": "code",
   "execution_count": 8,
   "id": "98b94b42-244e-4f80-b710-c0870ec748f0",
   "metadata": {},
   "outputs": [],
   "source": [
    "#Q5. Can we create an instance of an abstract class? Explain your answer."
   ]
  },
  {
   "cell_type": "code",
   "execution_count": null,
   "id": "83214cf4-4de7-43f7-9308-0f1d7fe759b7",
   "metadata": {},
   "outputs": [],
   "source": [
    "No, we cannot create an instance of an abstract class in Python or any other object-oriented programming language.\n",
    "\n",
    "An abstract class is a class that contains one or more abstract methods. Abstract methods are methods that are declared but not defined in the \n",
    "abstract class. They are meant to be implemented by the subclasses of the abstract class.\n",
    "\n",
    "Since abstract methods have no implementation in the abstract class, it is not possible to create an instance of the abstract class.\n",
    "If we try to create an instance of an abstract class in Python, we will get a 'TypeError'.\n",
    "\n",
    "For example, consider the following abstract class 'Shape' that defines an abstract method 'area()'."
   ]
  },
  {
   "cell_type": "code",
   "execution_count": 9,
   "id": "8f6c25b8-a7e0-4135-a200-5f5c0477b5da",
   "metadata": {},
   "outputs": [],
   "source": [
    "from abc import ABC, abstractmethod\n",
    "\n",
    "class Shape(ABC):\n",
    "    @abstractmethod\n",
    "    def area(self):\n",
    "        pass\n"
   ]
  },
  {
   "cell_type": "code",
   "execution_count": null,
   "id": "1c28aa2f-5798-466d-b047-c3f020a0e652",
   "metadata": {},
   "outputs": [],
   "source": [
    "We cannot create an instance of the 'Shape' class because it is an abstract class."
   ]
  },
  {
   "cell_type": "code",
   "execution_count": 10,
   "id": "e903ad53-c9b3-477f-b839-c636a55eccdd",
   "metadata": {},
   "outputs": [
    {
     "ename": "TypeError",
     "evalue": "Can't instantiate abstract class Shape with abstract method area",
     "output_type": "error",
     "traceback": [
      "\u001b[0;31m---------------------------------------------------------------------------\u001b[0m",
      "\u001b[0;31mTypeError\u001b[0m                                 Traceback (most recent call last)",
      "Cell \u001b[0;32mIn [10], line 1\u001b[0m\n\u001b[0;32m----> 1\u001b[0m s \u001b[38;5;241m=\u001b[39m \u001b[43mShape\u001b[49m\u001b[43m(\u001b[49m\u001b[43m)\u001b[49m\n",
      "\u001b[0;31mTypeError\u001b[0m: Can't instantiate abstract class Shape with abstract method area"
     ]
    }
   ],
   "source": [
    "s = Shape()  # TypeError: Can't instantiate abstract class Shape with abstract methods area\n"
   ]
  },
  {
   "cell_type": "code",
   "execution_count": null,
   "id": "8c606a58-fec8-40d6-a034-fb8ea3695502",
   "metadata": {},
   "outputs": [],
   "source": [
    "However, we can create a subclass of the 'Shape' class and implement its abstract methods."
   ]
  },
  {
   "cell_type": "code",
   "execution_count": 11,
   "id": "9e03dc1e-8054-42d3-bce6-1c54c059f4df",
   "metadata": {},
   "outputs": [
    {
     "name": "stdout",
     "output_type": "stream",
     "text": [
      "78.5\n"
     ]
    }
   ],
   "source": [
    "class Circle(Shape):\n",
    "    def __init__(self, radius):\n",
    "        self.radius = radius\n",
    "    \n",
    "    def area(self):\n",
    "        return 3.14 * self.radius ** 2\n",
    "\n",
    "c = Circle(5)\n",
    "print(c.area())\n"
   ]
  },
  {
   "cell_type": "code",
   "execution_count": null,
   "id": "99d8c3ad-5642-4890-aaf0-3a81c5a69222",
   "metadata": {},
   "outputs": [],
   "source": [
    "In the above example, we have created a subclass called 'Circle' that extends the 'Shape' class and implements its abstract method 'area()'. \n",
    "We can create an instance of the 'Circle' class and call its 'area()' method because it has implemented the abstract method of its superclass 'Shape'."
   ]
  }
 ],
 "metadata": {
  "kernelspec": {
   "display_name": "Python 3 (ipykernel)",
   "language": "python",
   "name": "python3"
  },
  "language_info": {
   "codemirror_mode": {
    "name": "ipython",
    "version": 3
   },
   "file_extension": ".py",
   "mimetype": "text/x-python",
   "name": "python",
   "nbconvert_exporter": "python",
   "pygments_lexer": "ipython3",
   "version": "3.10.6"
  }
 },
 "nbformat": 4,
 "nbformat_minor": 5
}
