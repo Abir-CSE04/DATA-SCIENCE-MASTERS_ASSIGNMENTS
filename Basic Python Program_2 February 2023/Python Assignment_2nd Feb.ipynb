{
 "cells": [
  {
   "cell_type": "code",
   "execution_count": 1,
   "id": "a6e941b2-ebb7-4a02-8285-86a70d12483e",
   "metadata": {},
   "outputs": [],
   "source": [
    "                                        #ASSIGNMENT-3"
   ]
  },
  {
   "cell_type": "code",
   "execution_count": 2,
   "id": "3fdaebb7-76f4-4460-9cf5-9e1923222ac0",
   "metadata": {},
   "outputs": [],
   "source": [
    "#Q1.  Explain with an example each when to use a for loop and a while loop."
   ]
  },
  {
   "cell_type": "code",
   "execution_count": null,
   "id": "ec470b0d-f9f4-4ec1-9a21-69f54232c4d9",
   "metadata": {},
   "outputs": [],
   "source": [
    "''' For loop: A for loop is a control flow statement that executes code repeatedly for a particular number of iterations.\n",
    "The for loop is used when the number of iterations is already known.\n",
    "\n",
    "While loop: A loop that executes a single statement or a group of statements for the given true condition. '''\n"
   ]
  },
  {
   "cell_type": "code",
   "execution_count": 4,
   "id": "96cc8ed3-7b26-4ef7-aaff-1d392b807f57",
   "metadata": {},
   "outputs": [
    {
     "name": "stdout",
     "output_type": "stream",
     "text": [
      "1\n",
      "2\n",
      "3\n"
     ]
    }
   ],
   "source": [
    "# Example of for loop:\n",
    "\n",
    "n = [1, 2, 3]  # Initialization\n",
    "for i in n:  # Condition and Updation\n",
    "    print(i)\n"
   ]
  },
  {
   "cell_type": "code",
   "execution_count": 3,
   "id": "3fc88430-c4f8-44fc-a7f2-03446c627d3c",
   "metadata": {},
   "outputs": [
    {
     "name": "stdout",
     "output_type": "stream",
     "text": [
      "1\n",
      "2\n",
      "3\n",
      "4\n",
      "5\n"
     ]
    }
   ],
   "source": [
    "# Example of while loop:\n",
    "\n",
    "i = 1  # Initialization\n",
    "while i < 6:  # Condition\n",
    "    print(i)\n",
    "    i += 1  # Updation\n",
    "\n"
   ]
  },
  {
   "cell_type": "code",
   "execution_count": 5,
   "id": "7b2d1007-9951-4fec-96c0-dce967f41a27",
   "metadata": {},
   "outputs": [],
   "source": [
    "# Q2. Write a python program to print the sum and product of the first 10 natural numbers using for and while loop."
   ]
  },
  {
   "cell_type": "code",
   "execution_count": 7,
   "id": "81ae0516-409c-4143-80c6-a9dd51628346",
   "metadata": {},
   "outputs": [
    {
     "name": "stdout",
     "output_type": "stream",
     "text": [
      "Sum of first 10 natural numbers : 55\n",
      "Product of first 10 natural numbers : 3628800\n"
     ]
    }
   ],
   "source": [
    "# Python program to print the sum and product of the first 10 natural numbers using for loop.\n",
    "sum = 0\n",
    "product = 1\n",
    "for i in range(1, 11):\n",
    "    \n",
    "    sum += i\n",
    "    product *= i\n",
    "print(\"Sum of first 10 natural numbers :\", sum)\n",
    "print(\"Product of first 10 natural numbers :\", product)\n"
   ]
  },
  {
   "cell_type": "code",
   "execution_count": 2,
   "id": "b3887f2c-9ada-4332-b4d7-c541d23ff0fd",
   "metadata": {},
   "outputs": [
    {
     "name": "stdout",
     "output_type": "stream",
     "text": [
      "Sum of first 10 natural numbers : 55\n",
      "Product of first 10 natural numbers : 3628800\n"
     ]
    }
   ],
   "source": [
    "# Python program to print the sum and product of the first 10 natural numbers using  while loop.\n",
    "   \n",
    "sum = 0\n",
    "product = 1\n",
    "i = 1\n",
    "while i <= 10:\n",
    "    sum += i\n",
    "    product *= i\n",
    "    i += 1\n",
    "print(\"Sum of first 10 natural numbers :\", sum)\n",
    "print(\"Product of first 10 natural numbers :\", product)\n",
    "    "
   ]
  },
  {
   "cell_type": "code",
   "execution_count": null,
   "id": "0ed89141-00c8-4a25-8fca-a0a593e004c3",
   "metadata": {},
   "outputs": [],
   "source": [
    "Q3. Create a python program to compute the electricity bill for a household.\n",
    "The per-unit charges in rupees are as follows: For the first 100 units, the user will be charged Rs. 4.5 per \n",
    "unit, for the next 100 units, the user will be charged Rs. 6 per unit, and for the next 100 units, the user will \n",
    "be charged Rs. 10 per unit, After 300 units and above the user will be charged Rs. 20 per unit.\n",
    "You are required to take the units of electricity consumed in a month from the user as input.\n",
    "\n",
    "Your program must pass this test case: when the unit of electricity consumed by the user in a month is \n",
    "310, the total electricity bill should be 2250."
   ]
  },
  {
   "cell_type": "code",
   "execution_count": 5,
   "id": "aff6ef0e-dfb1-423a-9c6f-775f7de3cdf9",
   "metadata": {},
   "outputs": [
    {
     "name": "stdin",
     "output_type": "stream",
     "text": [
      "Enter the units of electricity consumed:  310\n"
     ]
    },
    {
     "name": "stdout",
     "output_type": "stream",
     "text": [
      "The total electricity bill is: Rs. 2250.0\n"
     ]
    }
   ],
   "source": [
    "units = int(input(\"Enter the units of electricity consumed: \"))\n",
    "\n",
    "if units <= 100:\n",
    "    bill = units * 4.5\n",
    "elif units <= 200:\n",
    "    bill = 100 * 4.5 + (units - 100) * 6\n",
    "elif units <= 300:\n",
    "    bill = 100 * 4.5 + 100 * 6 + (units - 200) * 10\n",
    "else:\n",
    "    bill = 100 * 4.5 + 100 * 6 + 100 * 10 + (units - 300) * 20\n",
    "\n",
    "print(\"The total electricity bill is: Rs.\", bill)"
   ]
  },
  {
   "cell_type": "code",
   "execution_count": null,
   "id": "922ac694-5ebf-41b6-907a-2820cf4098f7",
   "metadata": {},
   "outputs": [],
   "source": [
    "Q4. Create a list of numbers from 1 to 100. Use for loop and while loop to calculate the cube of each \n",
    "number and if the cube of that number is divisible by 4 or 5 then append that number in a list and print \n",
    "that list."
   ]
  },
  {
   "cell_type": "code",
   "execution_count": 9,
   "id": "cc32efd6-b7cf-4d49-ab2a-588b431d0b3a",
   "metadata": {},
   "outputs": [
    {
     "name": "stdout",
     "output_type": "stream",
     "text": [
      "\n",
      "\t\t--**\\\\\\\\\\ S T O R E  T H E  C U B E  OF  T H E   V A L U E  1  T O  1 00 /////**--\n",
      "\n",
      "[1, 8, 27, 64, 125, 216, 343, 512, 729, 1000, 1331, 1728, 2197, 2744, 3375, 4096, 4913, 5832, 6859, 8000, 9261, 10648, 12167, 13824, 15625, 17576, 19683, 21952, 24389, 27000, 29791, 32768, 35937, 39304, 42875, 46656, 50653, 54872, 59319, 64000, 68921, 74088, 79507, 85184, 91125, 97336, 103823, 110592, 117649, 125000, 132651, 140608, 148877, 157464, 166375, 175616, 185193, 195112, 205379, 216000, 226981, 238328, 250047, 262144, 274625, 287496, 300763, 314432, 328509, 343000, 357911, 373248, 389017, 405224, 421875, 438976, 456533, 474552, 493039, 512000, 531441, 551368, 571787, 592704, 614125, 636056, 658503, 681472, 704969, 729000, 753571, 778688, 804357, 830584, 857375, 884736, 912673, 941192, 970299, 1000000]\n",
      "\n",
      "The list of cubes in 1 to 100 that are divided by 4 or 5 is :\n",
      "[1000, 8000, 27000, 64000, 125000, 216000, 343000, 512000, 729000, 1000000]\n"
     ]
    }
   ],
   "source": [
    "list1=[]\n",
    "list2=[]\n",
    "list3=[]\n",
    "for i in range(1,101):\n",
    "    list1.append(i)\n",
    "\n",
    "print(\"\\n\\t\\t--**\\\\\\\\\\\\\\\\\\\\ S T O R E  T H E  C U B E  OF  T H E   V A L U E  1  T O  1 00 /////**--\\n\")\n",
    "for j in range(len(list1)):\n",
    "    temp=list1[j]\n",
    "    list2.append(temp*temp*temp)\n",
    "    \n",
    "print(list2)\n",
    "\n",
    "print(\"\\nThe list of cubes in 1 to 100 that are divided by 4 or 5 is :\")\n",
    "for k in range(len(list2)):\n",
    "    temp=list2[k]\n",
    "    if(temp%4==0 and temp%5==0):\n",
    "        \n",
    "        list3.append(temp)\n",
    "        \n",
    "    else:\n",
    "        continue\n",
    "    \n",
    "print(list3)"
   ]
  },
  {
   "cell_type": "code",
   "execution_count": null,
   "id": "869053f1-9781-4617-9397-9902ca1a1f63",
   "metadata": {},
   "outputs": [],
   "source": [
    "Q5.  Write a program to filter count vowels in the below-given string.\n",
    "\n",
    "string = \"I want to become a data scientist"
   ]
  },
  {
   "cell_type": "code",
   "execution_count": 10,
   "id": "06bc55f7-c9f5-4745-a6a3-3963d74c5ca0",
   "metadata": {},
   "outputs": [
    {
     "name": "stdout",
     "output_type": "stream",
     "text": [
      "Number of vowels in the string: 12\n"
     ]
    }
   ],
   "source": [
    "string = \"I want to become a data scientist\"\n",
    "\n",
    "vowels = \"aeiouAEIOU\"\n",
    "count = 0\n",
    "\n",
    "for char in string:\n",
    "    if char in vowels:\n",
    "        count += 1\n",
    "\n",
    "print(\"Number of vowels in the string:\", count)"
   ]
  },
  {
   "cell_type": "code",
   "execution_count": null,
   "id": "137d20e7-bfad-478b-a65c-0533ee6d0355",
   "metadata": {},
   "outputs": [],
   "source": []
  }
 ],
 "metadata": {
  "kernelspec": {
   "display_name": "Python 3 (ipykernel)",
   "language": "python",
   "name": "python3"
  },
  "language_info": {
   "codemirror_mode": {
    "name": "ipython",
    "version": 3
   },
   "file_extension": ".py",
   "mimetype": "text/x-python",
   "name": "python",
   "nbconvert_exporter": "python",
   "pygments_lexer": "ipython3",
   "version": "3.10.6"
  }
 },
 "nbformat": 4,
 "nbformat_minor": 5
}
